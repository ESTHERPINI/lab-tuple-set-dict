{
 "cells": [
  {
   "cell_type": "markdown",
   "metadata": {},
   "source": [
    "## Challenge 2: Sets\n",
    "\n",
    "There are a lot to learn about Python Sets and the information presented in the lesson is limited due to its length. To learn Python Sets in depth you are strongly encouraged to review the W3Schools tutorial on [Python Sets Examples and Methods](https://www.w3schools.com/python/python_sets.asp) before you work on this lab. Some difficult questions in this lab have their solutions in the W3Schools tutorial.\n",
    "\n",
    "#### First, import the Python `random` libary"
   ]
  },
  {
   "cell_type": "code",
   "execution_count": 8,
   "metadata": {},
   "outputs": [],
   "source": [
    "import random"
   ]
  },
  {
   "cell_type": "markdown",
   "metadata": {},
   "source": [
    "#### In the cell below, create a list named `sample_list_1` with 80 random values. \n",
    "\n",
    "Requirements:\n",
    "\n",
    "* Each value is an integer falling between 0 and 100.\n",
    "* Each value in the list is unique.\n",
    "\n",
    "Print `sample_list_1` to review its values\n",
    "\n",
    "*Hint: use `random.sample` ([reference](https://docs.python.org/3/library/random.html#random.sample)).*"
   ]
  },
  {
   "cell_type": "code",
   "execution_count": 58,
   "metadata": {},
   "outputs": [
    {
     "name": "stdout",
     "output_type": "stream",
     "text": [
      "[31, 23, 57, 6, 42, 43, 7, 38, 83, 5, 68, 44, 20, 81, 19, 75, 99, 1, 66, 62, 17, 49, 34, 96, 76, 64, 92, 85, 65, 39, 12, 79, 98, 32, 13, 33, 50, 25, 0, 60, 14, 8, 53, 63, 78, 93, 27, 87, 22, 90, 73, 24, 84, 55, 67, 48, 52, 88, 11]\n"
     ]
    }
   ],
   "source": [
    "sample_list_1=[]\n",
    "\n",
    "for i in range(80):\n",
    "    r=random.randint(0,100)\n",
    "    if r not in sample_list_1:\n",
    "        sample_list_1.append(r)\n",
    "\n",
    "print(sample_list_1)\n"
   ]
  },
  {
   "cell_type": "markdown",
   "metadata": {},
   "source": [
    "#### Convert `sample_list_1` to a set called `set1`. Print the length of the set. Is its length still 80?"
   ]
  },
  {
   "cell_type": "code",
   "execution_count": 59,
   "metadata": {},
   "outputs": [
    {
     "name": "stdout",
     "output_type": "stream",
     "text": [
      "{0, 1, 5, 6, 7, 8, 11, 12, 13, 14, 17, 19, 20, 22, 23, 24, 25, 27, 31, 32, 33, 34, 38, 39, 42, 43, 44, 48, 49, 50, 52, 53, 55, 57, 60, 62, 63, 64, 65, 66, 67, 68, 73, 75, 76, 78, 79, 81, 83, 84, 85, 87, 88, 90, 92, 93, 96, 98, 99}\n"
     ]
    },
    {
     "data": {
      "text/plain": [
       "59"
      ]
     },
     "execution_count": 59,
     "metadata": {},
     "output_type": "execute_result"
    }
   ],
   "source": [
    "set1=set(sample_list_1)\n",
    "print(set1)\n",
    "len(set1)\n"
   ]
  },
  {
   "cell_type": "markdown",
   "metadata": {},
   "source": [
    "#### Create another list named `sample_list_2` with 80 random values.\n",
    "\n",
    "Requirements:\n",
    "\n",
    "* Each value is an integer falling between 0 and 100.\n",
    "* The values in the list don't have to be unique.\n",
    "\n",
    "*Hint: Use a FOR loop.*"
   ]
  },
  {
   "cell_type": "code",
   "execution_count": 60,
   "metadata": {},
   "outputs": [
    {
     "name": "stdout",
     "output_type": "stream",
     "text": [
      "[79, 1, 60, 90, 6, 7, 27, 25, 84, 81, 17, 67, 5, 39, 92, 85, 79, 12, 57, 65, 27, 7, 85, 93, 67, 76, 27, 73, 62, 62, 63, 34, 84, 87, 68, 81, 78, 19, 44, 55, 44, 25, 27, 83, 31, 43, 53, 7, 27, 23, 67, 75, 85, 78, 24, 93, 60, 24, 49, 12, 55, 67, 96, 87, 14, 19, 75, 7, 44, 79, 67, 81, 60, 42, 90, 78, 44, 7, 0, 48]\n"
     ]
    }
   ],
   "source": [
    "sample_list_2 = [(*range(0,100,1))]\n",
    "\n",
    "print(random.choices(sample_list_1, k = 80))\n"
   ]
  },
  {
   "cell_type": "markdown",
   "metadata": {},
   "source": [
    "#### Convert `sample_list_2` to a set called `set2`. Print the length of the set. Is its length still 80?"
   ]
  },
  {
   "cell_type": "code",
   "execution_count": 61,
   "metadata": {},
   "outputs": [
    {
     "data": {
      "text/plain": [
       "100"
      ]
     },
     "execution_count": 61,
     "metadata": {},
     "output_type": "execute_result"
    }
   ],
   "source": [
    "set2=set(sample_list_2)\n",
    "len(set2)"
   ]
  },
  {
   "cell_type": "markdown",
   "metadata": {},
   "source": [
    "#### Identify the elements present in `set1` but not in `set2`. Assign the elements to a new set named `set3`."
   ]
  },
  {
   "cell_type": "code",
   "execution_count": 62,
   "metadata": {},
   "outputs": [
    {
     "name": "stdout",
     "output_type": "stream",
     "text": [
      "No match elements:  []\n"
     ]
    }
   ],
   "source": [
    "def non_match_elements(list_a, list_b):\n",
    "    set3 = []\n",
    "    for i in list_a:\n",
    "        if i not in list_b:\n",
    "            set3.append(i)\n",
    "    return set3\n",
    "        \n",
    " \n",
    "list_a = list(set1)\n",
    "list_b = list(set2)\n",
    " \n",
    "set3 = non_match_elements(list_a, list_b)\n",
    "print(\"No match elements: \", set3)"
   ]
  },
  {
   "cell_type": "markdown",
   "metadata": {},
   "source": [
    "#### Identify the elements present in `set2` but not in `set1`. Assign the elements to a new set named `set4`."
   ]
  },
  {
   "cell_type": "code",
   "execution_count": 63,
   "metadata": {},
   "outputs": [
    {
     "name": "stdout",
     "output_type": "stream",
     "text": [
      "No match elements:  [2, 3, 4, 9, 10, 15, 16, 18, 21, 26, 28, 29, 30, 35, 36, 37, 40, 41, 45, 46, 47, 51, 54, 56, 58, 59, 61, 69, 70, 71, 72, 74, 77, 80, 82, 86, 89, 91, 94, 95, 97]\n"
     ]
    }
   ],
   "source": [
    "def non_match_elements(list_a, list_b):\n",
    "    set4 = []\n",
    "    for i in list_b:\n",
    "        if i not in list_a:\n",
    "            set4.append(i)\n",
    "    return set4\n",
    "        \n",
    " \n",
    "list_a = list(set1)\n",
    "list_b = list(set2)\n",
    " \n",
    "set4 = non_match_elements(list_a, list_b)\n",
    "print(\"No match elements: \", set4)"
   ]
  },
  {
   "cell_type": "markdown",
   "metadata": {},
   "source": [
    "#### Now Identify the elements shared between `set1` and `set2`. Assign the elements to a new set named `set5`."
   ]
  },
  {
   "cell_type": "code",
   "execution_count": 64,
   "metadata": {},
   "outputs": [
    {
     "name": "stdout",
     "output_type": "stream",
     "text": [
      "Shared elements:  [0, 1, 5, 6, 7, 8, 11, 12, 13, 14, 17, 19, 20, 22, 23, 24, 25, 27, 31, 32, 33, 34, 38, 39, 42, 43, 44, 48, 49, 50, 52, 53, 55, 57, 60, 62, 63, 64, 65, 66, 67, 68, 73, 75, 76, 78, 79, 81, 83, 84, 85, 87, 88, 90, 92, 93, 96, 98, 99]\n"
     ]
    }
   ],
   "source": [
    "def shared_elements(list_a, list_b):\n",
    "    set5 = []\n",
    "    for i in list_a:\n",
    "        if i in list_b:\n",
    "            set5.append(i)\n",
    "    return set5\n",
    "        \n",
    " \n",
    "list_a = list(set1)\n",
    "list_b = list(set2)\n",
    " \n",
    "set5 = shared_elements(list_a, list_b)\n",
    "print(\"Shared elements: \", set5)\n"
   ]
  },
  {
   "cell_type": "markdown",
   "metadata": {},
   "source": [
    "#### What is the relationship among the following values:\n",
    "\n",
    "* len(set1)\n",
    "* len(set2)\n",
    "* len(set3)\n",
    "* len(set4)\n",
    "* len(set5)\n",
    "\n",
    "Use a math formular to represent that relationship. Test your formular with Python code."
   ]
  },
  {
   "cell_type": "code",
   "execution_count": 65,
   "metadata": {},
   "outputs": [
    {
     "name": "stdout",
     "output_type": "stream",
     "text": [
      "59\n",
      "100\n",
      "0\n",
      "41\n",
      "59\n"
     ]
    }
   ],
   "source": [
    "print(len(set1))\n",
    "print(len(set2))\n",
    "print(len(set3))\n",
    "print(len(set4))\n",
    "print(len(set5))\n"
   ]
  },
  {
   "cell_type": "markdown",
   "metadata": {},
   "source": [
    "#### Create an empty set called `set6`."
   ]
  },
  {
   "cell_type": "code",
   "execution_count": 66,
   "metadata": {},
   "outputs": [],
   "source": [
    "set6=set()"
   ]
  },
  {
   "cell_type": "markdown",
   "metadata": {},
   "source": [
    "#### Add `set3` and `set5` to `set6` using the Python Set `update` method."
   ]
  },
  {
   "cell_type": "code",
   "execution_count": 67,
   "metadata": {},
   "outputs": [
    {
     "name": "stdout",
     "output_type": "stream",
     "text": [
      "set()\n",
      "{0, 1, 5, 6, 7, 8, 11, 12, 13, 14, 17, 19, 20, 22, 23, 24, 25, 27, 31, 32, 33, 34, 38, 39, 42, 43, 44, 48, 49, 50, 52, 53, 55, 57, 60, 62, 63, 64, 65, 66, 67, 68, 73, 75, 76, 78, 79, 81, 83, 84, 85, 87, 88, 90, 92, 93, 96, 98, 99}\n"
     ]
    }
   ],
   "source": [
    "set3=set(set3)\n",
    "print(set3)\n",
    "set5=set(set5)\n",
    "print(set5)"
   ]
  },
  {
   "cell_type": "code",
   "execution_count": 68,
   "metadata": {},
   "outputs": [
    {
     "name": "stdout",
     "output_type": "stream",
     "text": [
      "{0, 1, 5, 6, 7, 8, 11, 12, 13, 14, 17, 19, 20, 22, 23, 24, 25, 27, 31, 32, 33, 34, 38, 39, 42, 43, 44, 48, 49, 50, 52, 53, 55, 57, 60, 62, 63, 64, 65, 66, 67, 68, 73, 75, 76, 78, 79, 81, 83, 84, 85, 87, 88, 90, 92, 93, 96, 98, 99}\n"
     ]
    }
   ],
   "source": [
    "set6.update(set5)\n",
    "print(set6)"
   ]
  },
  {
   "cell_type": "markdown",
   "metadata": {},
   "source": [
    "#### Check if `set1` and `set6` are equal."
   ]
  },
  {
   "cell_type": "code",
   "execution_count": 69,
   "metadata": {},
   "outputs": [
    {
     "data": {
      "text/plain": [
       "True"
      ]
     },
     "execution_count": 69,
     "metadata": {},
     "output_type": "execute_result"
    }
   ],
   "source": [
    "set1==set6"
   ]
  },
  {
   "cell_type": "markdown",
   "metadata": {},
   "source": [
    "#### Check if `set1` contains `set2` using the Python Set `issubset` method. Then check if `set1` contains `set3`.*"
   ]
  },
  {
   "cell_type": "code",
   "execution_count": 70,
   "metadata": {},
   "outputs": [
    {
     "data": {
      "text/plain": [
       "True"
      ]
     },
     "execution_count": 70,
     "metadata": {},
     "output_type": "execute_result"
    }
   ],
   "source": [
    "set1.issubset(set2)"
   ]
  },
  {
   "cell_type": "code",
   "execution_count": 71,
   "metadata": {},
   "outputs": [
    {
     "data": {
      "text/plain": [
       "False"
      ]
     },
     "execution_count": 71,
     "metadata": {},
     "output_type": "execute_result"
    }
   ],
   "source": [
    "set1.issubset(set3)"
   ]
  },
  {
   "cell_type": "markdown",
   "metadata": {},
   "source": [
    "#### Using the Python Set `union` method, aggregate `set3`, `set4`, and `set5`. Then aggregate `set1` and `set2`. \n",
    "\n",
    "#### Check if the aggregated values are equal."
   ]
  },
  {
   "cell_type": "code",
   "execution_count": 72,
   "metadata": {},
   "outputs": [
    {
     "name": "stdout",
     "output_type": "stream",
     "text": [
      "{0, 1, 2, 3, 4, 5, 6, 7, 8, 9, 10, 11, 12, 13, 14, 15, 16, 17, 18, 19, 20, 21, 22, 23, 24, 25, 26, 27, 28, 29, 30, 31, 32, 33, 34, 35, 36, 37, 38, 39, 40, 41, 42, 43, 44, 45, 46, 47, 48, 49, 50, 51, 52, 53, 54, 55, 56, 57, 58, 59, 60, 61, 62, 63, 64, 65, 66, 67, 68, 69, 70, 71, 72, 73, 74, 75, 76, 77, 78, 79, 80, 81, 82, 83, 84, 85, 86, 87, 88, 89, 90, 91, 92, 93, 94, 95, 96, 97, 98, 99}\n"
     ]
    }
   ],
   "source": [
    "Union1=set3.union(set4,set5)\n",
    "\n",
    "Union2=Union1.union(set1,set2)\n",
    "print(Union2)\n"
   ]
  },
  {
   "cell_type": "markdown",
   "metadata": {},
   "source": [
    "#### Using the `pop` method, remove the first element from `set1`."
   ]
  },
  {
   "cell_type": "code",
   "execution_count": 76,
   "metadata": {},
   "outputs": [
    {
     "name": "stdout",
     "output_type": "stream",
     "text": [
      "{1, 5, 6, 7, 8, 11, 12, 13, 14, 17, 19, 20, 22, 23, 24, 25, 27, 31, 32, 33, 34, 38, 39, 42, 43, 44, 48, 49, 50, 52, 53, 55, 57, 60, 62, 63, 64, 65, 66, 67, 68, 73, 75, 76, 78, 79, 81, 83, 84, 85, 87, 88, 90, 92, 93, 96, 98, 99}\n"
     ]
    }
   ],
   "source": [
    "#pop removes a radom element.\n",
    "remove.set(0)\n",
    "print(set1)\n"
   ]
  },
  {
   "cell_type": "markdown",
   "metadata": {},
   "source": [
    "#### Remove every element in the following list from `set1` if they are present in the set. Print the remaining elements.\n",
    "\n",
    "```\n",
    "list_to_remove = [1, 9, 11, 19, 21, 29, 31, 39, 41, 49, 51, 59, 61, 69, 71, 79, 81, 89, 91, 99]\n",
    "```"
   ]
  },
  {
   "cell_type": "code",
   "execution_count": 86,
   "metadata": {},
   "outputs": [
    {
     "ename": "NameError",
     "evalue": "name 'list__set1' is not defined",
     "output_type": "error",
     "traceback": [
      "\u001b[1;31m---------------------------------------------------------------------------\u001b[0m",
      "\u001b[1;31mNameError\u001b[0m                                 Traceback (most recent call last)",
      "\u001b[1;32m<ipython-input-86-8979ecd24b4c>\u001b[0m in \u001b[0;36m<module>\u001b[1;34m\u001b[0m\n\u001b[0;32m      2\u001b[0m \u001b[0mlist_set1\u001b[0m\u001b[1;33m=\u001b[0m\u001b[0mlist\u001b[0m\u001b[1;33m(\u001b[0m\u001b[0mset1\u001b[0m\u001b[1;33m)\u001b[0m\u001b[1;33m\u001b[0m\u001b[1;33m\u001b[0m\u001b[0m\n\u001b[0;32m      3\u001b[0m \u001b[1;33m\u001b[0m\u001b[0m\n\u001b[1;32m----> 4\u001b[1;33m \u001b[0mresult\u001b[0m \u001b[1;33m=\u001b[0m \u001b[1;33m(\u001b[0m\u001b[0mo\u001b[0m \u001b[1;32mfor\u001b[0m \u001b[0mo\u001b[0m \u001b[1;32min\u001b[0m \u001b[0mlist__set1\u001b[0m \u001b[1;32mif\u001b[0m \u001b[0mo\u001b[0m \u001b[1;32mnot\u001b[0m \u001b[1;32min\u001b[0m \u001b[0mlist_to_remove\u001b[0m\u001b[1;33m)\u001b[0m\u001b[1;33m\u001b[0m\u001b[1;33m\u001b[0m\u001b[0m\n\u001b[0m\u001b[0;32m      5\u001b[0m \u001b[0mprint\u001b[0m\u001b[1;33m(\u001b[0m\u001b[0mresult\u001b[0m\u001b[1;33m)\u001b[0m\u001b[1;33m\u001b[0m\u001b[1;33m\u001b[0m\u001b[0m\n",
      "\u001b[1;31mNameError\u001b[0m: name 'list__set1' is not defined"
     ]
    }
   ],
   "source": [
    "list_to_remove = [1, 9, 11, 19, 21, 29, 31, 39, 41, 49, 51, 59, 61, 69, 71, 79, 81, 89, 91, 99]\n",
    "list_set1=list(set1)\n",
    "\n"
   ]
  },
  {
   "cell_type": "code",
   "execution_count": null,
   "metadata": {},
   "outputs": [],
   "source": []
  }
 ],
 "metadata": {
  "kernelspec": {
   "display_name": "Python 3",
   "language": "python",
   "name": "python3"
  },
  "language_info": {
   "codemirror_mode": {
    "name": "ipython",
    "version": 3
   },
   "file_extension": ".py",
   "mimetype": "text/x-python",
   "name": "python",
   "nbconvert_exporter": "python",
   "pygments_lexer": "ipython3",
   "version": "3.8.3"
  }
 },
 "nbformat": 4,
 "nbformat_minor": 2
}
