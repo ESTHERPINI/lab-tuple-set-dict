{
 "cells": [
  {
   "cell_type": "markdown",
   "metadata": {},
   "source": [
    "## Challenge 1: Tuples\n",
    "\n",
    "#### Do you know you can create tuples with only one element?\n",
    "\n",
    "**In the cell below, define a variable `tup` with a single element `\"I\"`.**\n",
    "\n",
    "*Hint: you need to add a comma (`,`) after the single element.*"
   ]
  },
  {
   "cell_type": "code",
   "execution_count": 1,
   "metadata": {},
   "outputs": [
    {
     "name": "stdout",
     "output_type": "stream",
     "text": [
      "('I',)\n"
     ]
    }
   ],
   "source": [
    "tup=(\"I\",)\n",
    "print(tup)"
   ]
  },
  {
   "cell_type": "markdown",
   "metadata": {},
   "source": [
    "#### Print the type of `tup`. \n",
    "\n",
    "Make sure its type is correct (i.e. *tuple* instead of *str*)."
   ]
  },
  {
   "cell_type": "code",
   "execution_count": 2,
   "metadata": {},
   "outputs": [
    {
     "data": {
      "text/plain": [
       "tuple"
      ]
     },
     "execution_count": 2,
     "metadata": {},
     "output_type": "execute_result"
    }
   ],
   "source": [
    "type(tup)\n"
   ]
  },
  {
   "cell_type": "markdown",
   "metadata": {},
   "source": [
    "#### Now try to append the following elements to `tup`. \n",
    "\n",
    "Are you able to do it? Explain.\n",
    "\n",
    "```\n",
    "\"r\", \"o\", \"n\", \"h\", \"a\", \"c\", \"k',\n",
    "```"
   ]
  },
  {
   "cell_type": "code",
   "execution_count": 7,
   "metadata": {},
   "outputs": [
    {
     "name": "stdout",
     "output_type": "stream",
     "text": [
      "['I', 'r', 'o', 'n', 'h', 'a', 'c', 'k']\n"
     ]
    }
   ],
   "source": [
    "# You can't modify a tupple, so you should amend it into a list type\n",
    "\n",
    "tup_list=list(tup)\n",
    "\n",
    "second_list=[\"r\", \"o\", \"n\", \"h\", \"a\", \"c\", \"k\"]\n",
    "\n",
    "tup_list.extend(second_list)\n",
    "print(tup_list)"
   ]
  },
  {
   "cell_type": "markdown",
   "metadata": {},
   "source": [
    "#### How about re-assign a new value to an existing tuple?\n",
    "\n",
    "Re-assign the following elements to `tup`. Are you able to do it? Explain.\n",
    "\n",
    "```\n",
    "\"I\", \"r\", \"o\", \"n\", \"h\", \"a\", \"c\", \"k\"\n",
    "```"
   ]
  },
  {
   "cell_type": "code",
   "execution_count": 8,
   "metadata": {},
   "outputs": [
    {
     "name": "stdout",
     "output_type": "stream",
     "text": [
      "['I', 'r', 'o', 'n', 'h', 'a', 'c', 'k']\n"
     ]
    }
   ],
   "source": [
    "# I create a new list with the new elements and then reassing one list with the new one\n",
    "\n",
    "list_to_reassing=[\"I\", \"r\", \"o\", \"n\", \"h\", \"a\", \"c\", \"k\"]\n",
    "\n",
    "tup_list=list_to_reassing\n",
    "print(tup_list)\n",
    "\n",
    "#print the same because the elements where the same"
   ]
  },
  {
   "cell_type": "markdown",
   "metadata": {},
   "source": [
    "#### Split `tup` into `tup1` and `tup2` with 4 elements in each. \n",
    "\n",
    "`tup1` should be `(\"I\", \"r\", \"o\", \"n\")` and `tup2` should be `(\"h\", \"a\", \"c\", \"k\")`.\n",
    "\n",
    "*Hint: use positive index numbers for `tup1` assignment and use negative index numbers for `tup2` assignment. Positive index numbers count from the beginning whereas negative index numbers count from the end of the sequence.*\n",
    "\n",
    "Also print `tup1` and `tup2`."
   ]
  },
  {
   "cell_type": "code",
   "execution_count": 24,
   "metadata": {},
   "outputs": [
    {
     "name": "stdout",
     "output_type": "stream",
     "text": [
      "['I', 'r', 'o', 'n']\n",
      "['h', 'a', 'c', 'k']\n"
     ]
    }
   ],
   "source": [
    "def split_list(tup_list):\n",
    "    half = len(tup_list)//2\n",
    "    return tup_list[:half], tup_list[half:]\n",
    "\n",
    "tup_list = ['I', 'r', 'o', 'n', 'h', 'a', 'c', 'k']\n",
    "tup1,tup2 = split_list(tup_list)\n",
    "\n",
    "print(tup1)\n",
    "print(tup2)"
   ]
  },
  {
   "cell_type": "code",
   "execution_count": 49,
   "metadata": {},
   "outputs": [
    {
     "name": "stdout",
     "output_type": "stream",
     "text": [
      "['I', 'r', 'o', 'n']\n"
     ]
    }
   ],
   "source": [
    "tup1=tup_list[:4]\n",
    "print(tup1)"
   ]
  },
  {
   "cell_type": "code",
   "execution_count": 47,
   "metadata": {},
   "outputs": [
    {
     "name": "stdout",
     "output_type": "stream",
     "text": [
      "['h', 'a', 'c', 'k']\n"
     ]
    }
   ],
   "source": [
    "tup2=tup_list[-4:]\n",
    "print(tup2)"
   ]
  },
  {
   "cell_type": "markdown",
   "metadata": {},
   "source": [
    "#### Add `tup1` and `tup2` into `tup3` using the `+` operator.\n",
    "\n",
    "Then print `tup3` and check if `tup3` equals to `tup`."
   ]
  },
  {
   "cell_type": "code",
   "execution_count": 55,
   "metadata": {},
   "outputs": [
    {
     "name": "stdout",
     "output_type": "stream",
     "text": [
      "[['I', 'r', 'o', 'n', 'h', 'a', 'c', 'k']]\n"
     ]
    }
   ],
   "source": [
    "tup3=[]\n",
    "\n",
    "tup3.append(tup1+tup2)\n",
    "print(tup3)\n",
    "#no se por qué tengo doble corchete :("
   ]
  },
  {
   "cell_type": "markdown",
   "metadata": {},
   "source": [
    "#### Count the number of elements in `tup1` and `tup2`. Then add the two counts together and check if the sum is the same as the number of elements in `tup3`"
   ]
  },
  {
   "cell_type": "code",
   "execution_count": 56,
   "metadata": {},
   "outputs": [
    {
     "name": "stdout",
     "output_type": "stream",
     "text": [
      "False\n"
     ]
    }
   ],
   "source": [
    "print(len(tup1)+len(tup2)==len(tup3))\n",
    "\n",
    "#no se añaden elementos repetidos"
   ]
  },
  {
   "cell_type": "markdown",
   "metadata": {},
   "source": [
    "#### What is the index number of `\"h\"` in `tup3`?"
   ]
  },
  {
   "cell_type": "code",
   "execution_count": 63,
   "metadata": {},
   "outputs": [
    {
     "name": "stdout",
     "output_type": "stream",
     "text": [
      "4\n"
     ]
    }
   ],
   "source": [
    "def list_occurrences(param, lista):\n",
    "    found = False\n",
    "    for index, item in enumerate(lista):\n",
    "        if item == param:\n",
    "            yield index\n",
    "            found = True\n",
    "    if not found:\n",
    "        yield None\n",
    "\n",
    "\n",
    "tup3 =['I', 'r', 'o', 'n', 'h', 'a', 'c', 'k']\n",
    "\n",
    "for i in list_occurrences(\"h\", tup3):\n",
    "    print(i)"
   ]
  },
  {
   "cell_type": "markdown",
   "metadata": {},
   "source": [
    "#### Now, use a FOR loop to check whether each letter in the following list is present in `tup3`:\n",
    "\n",
    "```\n",
    "letters = [\"a\", \"b\", \"c\", \"d\", \"e\"]\n",
    "```\n",
    "\n",
    "For each letter you check, print `True` if it is present in `tup3` otherwise print `False`.\n",
    "\n",
    "*Hint: you only need to loop `letters`. You don't need to loop `tup3` because there is a Python operator `in` you can use. See [reference](https://stackoverflow.com/questions/17920147/how-to-check-if-a-tuple-contains-an-element-in-python).*"
   ]
  },
  {
   "cell_type": "code",
   "execution_count": 20,
   "metadata": {},
   "outputs": [
    {
     "name": "stdout",
     "output_type": "stream",
     "text": [
      "True\n",
      "False\n",
      "True\n",
      "False\n",
      "False\n"
     ]
    }
   ],
   "source": [
    "def shared_elements(list_a, list_b):\n",
    "    for i in list_a:\n",
    "        if i in list_b:\n",
    "            print(True)\n",
    "        else:\n",
    "            print(False)\n",
    "           \n",
    " \n",
    "letters= [\"a\", \"b\", \"c\", \"d\", \"e\"]\n",
    "tup3 =['I', 'r', 'o', 'n', 'h', 'a', 'c', 'k']\n",
    "\n",
    "shared_elements(letters, tup3)\n"
   ]
  },
  {
   "cell_type": "markdown",
   "metadata": {},
   "source": [
    "#### How many times does each letter in `letters` appear in `tup3`?\n",
    "\n",
    "Print out the number of occurrence of each letter."
   ]
  },
  {
   "cell_type": "code",
   "execution_count": 8,
   "metadata": {},
   "outputs": [
    {
     "name": "stdout",
     "output_type": "stream",
     "text": [
      "2\n"
     ]
    }
   ],
   "source": [
    "letters= [\"a\", \"b\", \"c\", \"d\", \"e\"]\n",
    "tup3 =['I', 'r', 'o', 'n', 'h', 'a', 'c', 'k']\n",
    "\n",
    "counter=0\n",
    "\n",
    "for i in letters:\n",
    "    if i in tup3:\n",
    "            counter+=1\n",
    "            \n",
    "print(counter)"
   ]
  },
  {
   "cell_type": "code",
   "execution_count": 19,
   "metadata": {},
   "outputs": [
    {
     "name": "stdout",
     "output_type": "stream",
     "text": [
      "a appears 1 times\n",
      "b appears 0 times\n",
      "c appears 1 times\n",
      "d appears 0 times\n",
      "e appears 0 times\n"
     ]
    }
   ],
   "source": [
    "letters= [\"a\", \"b\", \"c\", \"d\", \"e\"]\n",
    "tup3 =['I', 'r', 'o', 'n', 'h', 'a', 'c', 'k']\n",
    "\n",
    "counter_a=0\n",
    "\n",
    "for i in tup3:\n",
    "    if i==\"a\":\n",
    "        counter_a+=1\n",
    "            \n",
    "print(\"a appears\", (counter_a), \"times\" )\n",
    "####\n",
    "counter_b=0\n",
    "\n",
    "for i in tup3:\n",
    "    if i==\"b\":\n",
    "        counter_b+=1\n",
    "            \n",
    "print(\"b appears\", (counter_b), \"times\" )\n",
    "\n",
    "##########\n",
    "counter_c=0\n",
    "\n",
    "for i in tup3:\n",
    "    if i==\"c\":\n",
    "        counter_c+=1\n",
    "            \n",
    "print(\"c appears\", (counter_c), \"times\" )\n",
    "\n",
    "#########\n",
    "counter_d=0\n",
    "\n",
    "for i in tup3:\n",
    "    if i==\"d\":\n",
    "        counter_d+=1\n",
    "            \n",
    "print(\"d appears\", (counter_d), \"times\" )\n",
    "\n",
    "#########\n",
    "counter_e=0\n",
    "\n",
    "for i in tup3:\n",
    "    if i==\"e\":\n",
    "        counter_e+=1\n",
    "            \n",
    "print(\"e appears\", (counter_e), \"times\" )\n"
   ]
  }
 ],
 "metadata": {
  "kernelspec": {
   "display_name": "Python 3",
   "language": "python",
   "name": "python3"
  },
  "language_info": {
   "codemirror_mode": {
    "name": "ipython",
    "version": 3
   },
   "file_extension": ".py",
   "mimetype": "text/x-python",
   "name": "python",
   "nbconvert_exporter": "python",
   "pygments_lexer": "ipython3",
   "version": "3.8.3"
  }
 },
 "nbformat": 4,
 "nbformat_minor": 2
}
